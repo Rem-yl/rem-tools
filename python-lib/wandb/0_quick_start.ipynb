{
 "cells": [
  {
   "cell_type": "markdown",
   "id": "af30c5c8",
   "metadata": {},
   "source": [
    "本notebook用于介绍`wandb`的大致用法, 同时结合`hydra`库打造一个简单机器学习训练demo"
   ]
  },
  {
   "cell_type": "markdown",
   "id": "3bc7c53f",
   "metadata": {},
   "source": [
    "# Quick Start"
   ]
  },
  {
   "cell_type": "markdown",
   "id": "c4522204",
   "metadata": {},
   "source": [
    "从`conf`文件夹下读取配置"
   ]
  },
  {
   "cell_type": "code",
   "execution_count": 14,
   "id": "3b9da8ca",
   "metadata": {},
   "outputs": [
    {
     "name": "stdout",
     "output_type": "stream",
     "text": [
      "{'project_name': 'wandb_demo', 'model': {'name': 'resnet18', 'depth': 18, 'num_classes': 10}, 'dataset': {'epochs': 10, 'batch_size': 32}, 'optimizer': {'lr': 0.005, 'beta1': 0.9, 'beta2': 0.999}}\n",
      "project_name: wandb_demo\n",
      "model:\n",
      "  name: resnet18\n",
      "  depth: 18\n",
      "  num_classes: 10\n",
      "dataset:\n",
      "  epochs: 10\n",
      "  batch_size: 32\n",
      "optimizer:\n",
      "  lr: 0.005\n",
      "  beta1: 0.9\n",
      "  beta2: 0.999\n",
      "\n"
     ]
    }
   ],
   "source": [
    "import wandb\n",
    "import hydra\n",
    "import os\n",
    "from omegaconf import DictConfig, OmegaConf\n",
    "from hydra import initialize, compose\n",
    "\n",
    "# 这种方式不能解析命令行参数, 并且也不能使用 multi-run功能\n",
    "# 使用 @hydra.main 来启用hydra\n",
    "def load_config(config_path:str, config_name:str):\n",
    "    with initialize(config_path=config_path, version_base=\"1.1\"):\n",
    "        return compose(config_name=config_name)\n",
    "\n",
    "config = load_config(config_path=\"conf\", config_name=\"default\")\n",
    "print(config)\n",
    "print(OmegaConf.to_yaml(config))"
   ]
  },
  {
   "cell_type": "markdown",
   "id": "d5a29159",
   "metadata": {},
   "source": [
    "使用[wandb.init()](https://docs.wandb.ai/ref/python/sdk/functions/init/)来初始化wandb库, 初次使用需要输入[api_key](https://wandb.ai/authorize)   \n",
    "- 使用`wandb.finish()`来停止"
   ]
  },
  {
   "cell_type": "code",
   "execution_count": 15,
   "id": "bd67802b",
   "metadata": {},
   "outputs": [
    {
     "data": {
      "text/html": [
       "Finishing previous runs because reinit is set to 'default'."
      ],
      "text/plain": [
       "<IPython.core.display.HTML object>"
      ]
     },
     "metadata": {},
     "output_type": "display_data"
    },
    {
     "data": {
      "text/html": [],
      "text/plain": [
       "<IPython.core.display.HTML object>"
      ]
     },
     "metadata": {},
     "output_type": "display_data"
    },
    {
     "data": {
      "text/html": [
       "<br>    <style><br>        .wandb-row {<br>            display: flex;<br>            flex-direction: row;<br>            flex-wrap: wrap;<br>            justify-content: flex-start;<br>            width: 100%;<br>        }<br>        .wandb-col {<br>            display: flex;<br>            flex-direction: column;<br>            flex-basis: 100%;<br>            flex: 1;<br>            padding: 10px;<br>        }<br>    </style><br><div class=\"wandb-row\"><div class=\"wandb-col\"><h3>Run history:</h3><br/><table class=\"wandb\"><tr><td>accuracy</td><td>▁▃▆▇▇▇▇█▇</td></tr><tr><td>loss</td><td>█▅▅▁▂▁▂▁▁</td></tr></table><br/></div><div class=\"wandb-col\"><h3>Run summary:</h3><br/><table class=\"wandb\"><tr><td>accuracy</td><td>0.85796</td></tr><tr><td>loss</td><td>0.13384</td></tr></table><br/></div></div>"
      ],
      "text/plain": [
       "<IPython.core.display.HTML object>"
      ]
     },
     "metadata": {},
     "output_type": "display_data"
    },
    {
     "data": {
      "text/html": [
       " View run <strong style=\"color:#cdcd00\">demo</strong> at: <a href='https://wandb.ai/rem1-opera/wandb_demo/runs/6mw5rqpf' target=\"_blank\">https://wandb.ai/rem1-opera/wandb_demo/runs/6mw5rqpf</a><br> View project at: <a href='https://wandb.ai/rem1-opera/wandb_demo' target=\"_blank\">https://wandb.ai/rem1-opera/wandb_demo</a><br>Synced 5 W&B file(s), 0 media file(s), 0 artifact file(s) and 0 other file(s)"
      ],
      "text/plain": [
       "<IPython.core.display.HTML object>"
      ]
     },
     "metadata": {},
     "output_type": "display_data"
    },
    {
     "data": {
      "text/html": [
       "Find logs at: <code>./wandb/run-20250724_103831-6mw5rqpf/logs</code>"
      ],
      "text/plain": [
       "<IPython.core.display.HTML object>"
      ]
     },
     "metadata": {},
     "output_type": "display_data"
    },
    {
     "data": {
      "text/html": [
       "Tracking run with wandb version 0.21.0"
      ],
      "text/plain": [
       "<IPython.core.display.HTML object>"
      ]
     },
     "metadata": {},
     "output_type": "display_data"
    },
    {
     "data": {
      "text/html": [
       "Run data is saved locally in <code>/Users/yule/Desktop/code/rem-tools/python-lib/wandb/wandb/run-20250724_104913-16jc98ts</code>"
      ],
      "text/plain": [
       "<IPython.core.display.HTML object>"
      ]
     },
     "metadata": {},
     "output_type": "display_data"
    },
    {
     "data": {
      "text/html": [
       "Syncing run <strong><a href='https://wandb.ai/rem1-opera/wandb_demo/runs/16jc98ts' target=\"_blank\">demo</a></strong> to <a href='https://wandb.ai/rem1-opera/wandb_demo' target=\"_blank\">Weights & Biases</a> (<a href='https://wandb.me/developer-guide' target=\"_blank\">docs</a>)<br>"
      ],
      "text/plain": [
       "<IPython.core.display.HTML object>"
      ]
     },
     "metadata": {},
     "output_type": "display_data"
    },
    {
     "data": {
      "text/html": [
       " View project at <a href='https://wandb.ai/rem1-opera/wandb_demo' target=\"_blank\">https://wandb.ai/rem1-opera/wandb_demo</a>"
      ],
      "text/plain": [
       "<IPython.core.display.HTML object>"
      ]
     },
     "metadata": {},
     "output_type": "display_data"
    },
    {
     "data": {
      "text/html": [
       " View run at <a href='https://wandb.ai/rem1-opera/wandb_demo/runs/16jc98ts' target=\"_blank\">https://wandb.ai/rem1-opera/wandb_demo/runs/16jc98ts</a>"
      ],
      "text/plain": [
       "<IPython.core.display.HTML object>"
      ]
     },
     "metadata": {},
     "output_type": "display_data"
    }
   ],
   "source": [
    "run = wandb.init(\n",
    "    project=config.project_name, \n",
    "    entity=\"rem1-opera\",     # username or team name\n",
    "    name=\"demo\",    # short display name\n",
    "    config=OmegaConf.to_container(config, resolve=True),\n",
    "    tags=[\"baseline\"],\n",
    "    group=\"test\", \n",
    ")"
   ]
  },
  {
   "cell_type": "markdown",
   "id": "b06426db",
   "metadata": {},
   "source": [
    "启用后会看到如下界面"
   ]
  },
  {
   "cell_type": "markdown",
   "id": "761846a9",
   "metadata": {},
   "source": [
    "<img src=\"./img/wandb_init.png\" width=\"80%\" style=\"display:block; margin:auto;\" />"
   ]
  },
  {
   "cell_type": "code",
   "execution_count": 16,
   "id": "509af5d4",
   "metadata": {},
   "outputs": [
    {
     "name": "stdout",
     "output_type": "stream",
     "text": [
      "epoch=1, accuracy=-0.1730977687092166, loss=1.3949701669801216\n",
      "epoch=2, accuracy=0.2473615518816463, loss=0.42244520478292846\n",
      "epoch=3, accuracy=0.6011621065565004, loss=0.2375206881122959\n",
      "epoch=4, accuracy=0.6528086085072703, loss=0.1111705243821583\n",
      "epoch=5, accuracy=0.7547778517406427, loss=0.08820603037325334\n",
      "epoch=6, accuracy=0.8884041226510352, loss=0.14574586378051904\n",
      "epoch=7, accuracy=0.9563369420783331, loss=0.17756758081716023\n",
      "epoch=8, accuracy=0.9441312663440764, loss=0.10719346494383178\n",
      "epoch=9, accuracy=0.8764487497298249, loss=0.08389733183686776\n"
     ]
    },
    {
     "data": {
      "text/html": [],
      "text/plain": [
       "<IPython.core.display.HTML object>"
      ]
     },
     "metadata": {},
     "output_type": "display_data"
    },
    {
     "data": {
      "text/html": [
       "<br>    <style><br>        .wandb-row {<br>            display: flex;<br>            flex-direction: row;<br>            flex-wrap: wrap;<br>            justify-content: flex-start;<br>            width: 100%;<br>        }<br>        .wandb-col {<br>            display: flex;<br>            flex-direction: column;<br>            flex-basis: 100%;<br>            flex: 1;<br>            padding: 10px;<br>        }<br>    </style><br><div class=\"wandb-row\"><div class=\"wandb-col\"><h3>Run history:</h3><br/><table class=\"wandb\"><tr><td>accuracy</td><td>▁▄▆▆▇████</td></tr><tr><td>loss</td><td>█▃▂▁▁▁▂▁▁</td></tr></table><br/></div><div class=\"wandb-col\"><h3>Run summary:</h3><br/><table class=\"wandb\"><tr><td>accuracy</td><td>0.87645</td></tr><tr><td>loss</td><td>0.0839</td></tr></table><br/></div></div>"
      ],
      "text/plain": [
       "<IPython.core.display.HTML object>"
      ]
     },
     "metadata": {},
     "output_type": "display_data"
    },
    {
     "data": {
      "text/html": [
       " View run <strong style=\"color:#cdcd00\">demo</strong> at: <a href='https://wandb.ai/rem1-opera/wandb_demo/runs/16jc98ts' target=\"_blank\">https://wandb.ai/rem1-opera/wandb_demo/runs/16jc98ts</a><br> View project at: <a href='https://wandb.ai/rem1-opera/wandb_demo' target=\"_blank\">https://wandb.ai/rem1-opera/wandb_demo</a><br>Synced 5 W&B file(s), 0 media file(s), 0 artifact file(s) and 0 other file(s)"
      ],
      "text/plain": [
       "<IPython.core.display.HTML object>"
      ]
     },
     "metadata": {},
     "output_type": "display_data"
    },
    {
     "data": {
      "text/html": [
       "Find logs at: <code>./wandb/run-20250724_104913-16jc98ts/logs</code>"
      ],
      "text/plain": [
       "<IPython.core.display.HTML object>"
      ]
     },
     "metadata": {},
     "output_type": "display_data"
    }
   ],
   "source": [
    "import random\n",
    "\n",
    "offset = random.random() / 5\n",
    "for epoch in range(1, config.dataset.epochs):\n",
    "    acc = 1 - 2**-epoch - random.random() / epoch - offset\n",
    "    loss = 2**-epoch + random.random() / epoch + offset\n",
    "    print(f\"epoch={epoch}, accuracy={acc}, loss={loss}\")\n",
    "    wandb.log({\"accuracy\": acc, \"loss\": loss})  # 记录每个 epoch 的 acc 和 loss\n",
    "\n",
    "run.finish()"
   ]
  },
  {
   "cell_type": "markdown",
   "id": "3be9fef3",
   "metadata": {},
   "source": [
    "反映在面板上会有以下的记录曲线, 每次运行都有生成新的曲线:   \n",
    "\n",
    "<img src=\"./img/wandb_run.png\" width=\"80%\" style=\"display:block; margin:auto;\" />"
   ]
  },
  {
   "cell_type": "markdown",
   "id": "d5b8f7a8",
   "metadata": {},
   "source": [
    "可以在`workspace`面板下对比不同实验的指标情况:  \n",
    "\n",
    "<img src=\"./img/differ.png\" width=\"80%\" style=\"display:block; margin:auto;\" />"
   ]
  }
 ],
 "metadata": {
  "kernelspec": {
   "display_name": "llm-env",
   "language": "python",
   "name": "python3"
  },
  "language_info": {
   "codemirror_mode": {
    "name": "ipython",
    "version": 3
   },
   "file_extension": ".py",
   "mimetype": "text/x-python",
   "name": "python",
   "nbconvert_exporter": "python",
   "pygments_lexer": "ipython3",
   "version": "3.10.18"
  }
 },
 "nbformat": 4,
 "nbformat_minor": 5
}
